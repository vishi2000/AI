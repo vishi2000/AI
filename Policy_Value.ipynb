{
  "nbformat": 4,
  "nbformat_minor": 0,
  "metadata": {
    "colab": {
      "provenance": [],
      "include_colab_link": true
    },
    "kernelspec": {
      "name": "python3",
      "display_name": "Python 3"
    },
    "language_info": {
      "name": "python"
    }
  },
  "cells": [
    {
      "cell_type": "markdown",
      "metadata": {
        "id": "view-in-github",
        "colab_type": "text"
      },
      "source": [
        "<a href=\"https://colab.research.google.com/github/vishi2000/AI/blob/main/Policy_Value.ipynb\" target=\"_parent\"><img src=\"https://colab.research.google.com/assets/colab-badge.svg\" alt=\"Open In Colab\"/></a>"
      ]
    },
    {
      "cell_type": "code",
      "execution_count": null,
      "metadata": {
        "id": "yaEIWzs0iukp"
      },
      "outputs": [],
      "source": [
        "import numpy as np\n",
        "\n",
        "states = [0,1,2,3,4]\n",
        "actions = [0 ,1]\n",
        "N_STATES = len(states)\n",
        "N_ACTIONS = len(actions)\n",
        "P = np.zeros((N_STATES, N_ACTIONS, N_STATES)) #transition probability\n",
        "R = np.zeros((N_STATES, N_ACTIONS, N_STATES)) #rewards"
      ]
    },
    {
      "cell_type": "code",
      "source": [
        "P[0,0,1] = 1.0 #STATE ACTION and Reward\n",
        "P[1,1,2] = 1.0\n",
        "P[2,0,3] = 1.0\n",
        "P[3,1,4] = 1.0\n",
        "P[4,0,4] = 1.0\n",
        "\n",
        "R[0,0,1] = 1\n",
        "R[1,1,2] = 10\n",
        "R[2,0,3] = 100\n",
        "R[3,1,4] = 1000\n",
        "R[4,0,4] = 1.0"
      ],
      "metadata": {
        "id": "i7ZacM6Uizx-"
      },
      "execution_count": null,
      "outputs": []
    },
    {
      "cell_type": "code",
      "source": [
        "gamma = 0.75\n",
        "\n",
        "#initialize policy and value arbitrarily\n",
        "\n",
        "policy = [ 0 for s in range(N_STATES)]\n",
        "V = np.zeros(N_STATES)\n",
        "\n",
        "print(\"Initial policy\", policy)\n",
        "# print V"
      ],
      "metadata": {
        "colab": {
          "base_uri": "https://localhost:8080/"
        },
        "id": "CCZ6gKY3iz1E",
        "outputId": "040dda12-7331-4169-a1da-b284e8f49314"
      },
      "execution_count": null,
      "outputs": [
        {
          "output_type": "stream",
          "name": "stdout",
          "text": [
            "Initial policy [0, 0, 0, 0, 0]\n"
          ]
        }
      ]
    },
    {
      "cell_type": "code",
      "source": [
        "is_value_changed = True\n",
        "iterations = 0\n",
        "while is_value_changed:\n",
        "  is_value_changed = False\n",
        "  iterations += 1\n",
        "#run value iteration for each state\n",
        "for s in range (N_STATES):\n",
        "  V[s] = sum([P[s,policy[s], s1] * (R[s,policy[s],s1] + gamma*V[s1]) for s1 in range(N_STATES)])\n",
        "  #print \" Run for state\", s\n",
        "\n",
        "for s in range(N_STATES):\n",
        "  q_best = V[s]\n",
        "  #print \"State\", s, \"q_best\", q_best\n",
        "  for a in range (N_ACTIONS):\n",
        "    q_sa = sum([P[s, a ,s1] * (R[s,a,s1] + gamma *V[s1]) for s1 in range(N_STATES)])"
      ],
      "metadata": {
        "id": "58OFRk9Biz4R"
      },
      "execution_count": null,
      "outputs": []
    },
    {
      "cell_type": "code",
      "source": [
        "for s in range(N_STATES):\n",
        "  q_best = V[s]\n",
        "  #print \"State\", s, \"q_best\", q_best\n",
        "  for a in range(N_ACTIONS):\n",
        "    q_sa = sum([P[s,a,s1] * (R[s,a,s1] + gamma *V[s1]) for s1 in range(N_STATES)])\n",
        "    if q_sa > q_best:\n",
        "      print(\"State\", s, \"q_sa\", q_sa, \"q_best\", q_best)\n",
        "      policy[s] = a\n",
        "      q_best = q_sa\n",
        "      is_value_changed = True\n",
        "\n",
        "print(\"Iterations\", iterations)"
      ],
      "metadata": {
        "colab": {
          "base_uri": "https://localhost:8080/"
        },
        "id": "-wdO0ZE3iz7A",
        "outputId": "9915248f-9827-4117-ccc5-b2072fa7a422"
      },
      "execution_count": null,
      "outputs": [
        {
          "output_type": "stream",
          "name": "stdout",
          "text": [
            "State 1 q_sa 85.0 q_best 0.0\n",
            "State 3 q_sa 1000.75 q_best 0.0\n",
            "State 4 q_sa 1.75 q_best 1.0\n",
            "Iterations 1\n"
          ]
        }
      ]
    },
    {
      "cell_type": "code",
      "source": [
        "print(\"Final Policy\")\n",
        "print(policy)\n",
        "print(V)"
      ],
      "metadata": {
        "colab": {
          "base_uri": "https://localhost:8080/"
        },
        "id": "XFdz00mKiz93",
        "outputId": "517100b3-438c-4cf4-c3bf-54e8f886a772"
      },
      "execution_count": null,
      "outputs": [
        {
          "output_type": "stream",
          "name": "stdout",
          "text": [
            "Final Policy\n",
            "[0, 1, 0, 1, 0]\n",
            "[  1.   0. 100.   0.   1.]\n"
          ]
        }
      ]
    },
    {
      "cell_type": "code",
      "source": [],
      "metadata": {
        "id": "u-bPg4X1i0Ar"
      },
      "execution_count": null,
      "outputs": []
    },
    {
      "cell_type": "code",
      "source": [],
      "metadata": {
        "id": "z--_gdOVi0Dm"
      },
      "execution_count": null,
      "outputs": []
    },
    {
      "cell_type": "code",
      "source": [],
      "metadata": {
        "id": "UURd-Cr_i0Gt"
      },
      "execution_count": null,
      "outputs": []
    }
  ]
}